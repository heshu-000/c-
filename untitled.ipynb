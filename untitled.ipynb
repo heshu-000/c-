{
  "nbformat": 4,
  "nbformat_minor": 0,
  "metadata": {
    "colab": {
      "name": ".ipynb",
      "provenance": [],
      "authorship_tag": "ABX9TyPyaH8D7vSJDjPlwxQZHfEm",
      "include_colab_link": true
    },
    "kernelspec": {
      "name": "python3",
      "display_name": "Python 3"
    },
    "language_info": {
      "name": "python"
    }
  },
  "cells": [
    {
      "cell_type": "markdown",
      "metadata": {
        "id": "view-in-github",
        "colab_type": "text"
      },
      "source": [
        "<a href=\"https://colab.research.google.com/github/heshu-000/c-/blob/main/untitled.ipynb\" target=\"_parent\"><img src=\"https://colab.research.google.com/assets/colab-badge.svg\" alt=\"Open In Colab\"/></a>"
      ]
    },
    {
      "cell_type": "code",
      "execution_count": 5,
      "metadata": {
        "colab": {
          "base_uri": "https://localhost:8080/"
        },
        "id": "4f84h_7I0I-j",
        "outputId": "81f790f5-d986-49c2-e63b-b863da22589a"
      },
      "outputs": [
        {
          "output_type": "stream",
          "name": "stdout",
          "text": [
            "<re.Match object; span=(0, 7), match='My name'>\n"
          ]
        }
      ],
      "source": [
        "import re\n",
        "txt = \"My name is Heshu\"\n",
        "x = re.search(\"My name\",txt)\n",
        "print(x)"
      ]
    },
    {
      "cell_type": "markdown",
      "source": [
        "# re.search\n"
      ],
      "metadata": {
        "id": "R3Cty0M021tM"
      }
    },
    {
      "cell_type": "code",
      "source": [
        "import re\n",
        "txt = \"My name is heshu\"\n",
        "x = re.search(\"My name\",txt)\n",
        "if x:\n",
        "  print(\"yes,its a match\")\n",
        "else:\n",
        "  print(\"no\")"
      ],
      "metadata": {
        "colab": {
          "base_uri": "https://localhost:8080/"
        },
        "id": "-7lLVOxI0Sce",
        "outputId": "d63d18cc-ead8-46cf-9225-91a6885ec2e0"
      },
      "execution_count": 2,
      "outputs": [
        {
          "output_type": "stream",
          "name": "stdout",
          "text": [
            "yes,its a match\n"
          ]
        }
      ]
    },
    {
      "cell_type": "markdown",
      "source": [
        "# re.findall"
      ],
      "metadata": {
        "id": "9eacWXYb27ub"
      }
    },
    {
      "cell_type": "code",
      "source": [
        "import re\n",
        "txt = \"My name is heshu\"\n",
        "x = re.findall(\"i\",txt)\n",
        "print(x)"
      ],
      "metadata": {
        "colab": {
          "base_uri": "https://localhost:8080/"
        },
        "id": "BwaKzt-m0qcj",
        "outputId": "e1370238-7622-484f-fe21-1628e78a9455"
      },
      "execution_count": 3,
      "outputs": [
        {
          "output_type": "stream",
          "name": "stdout",
          "text": [
            "['i']\n"
          ]
        }
      ]
    },
    {
      "cell_type": "code",
      "source": [
        "import re\n",
        "txt = \"My name is heshu Iam from anantapur\"\n",
        "x = re.findall(\"anantapur\",txt)\n",
        "if x:\n",
        "  print(\"Yes its a match\")\n",
        "else:\n",
        "  print(\"no\")"
      ],
      "metadata": {
        "colab": {
          "base_uri": "https://localhost:8080/"
        },
        "id": "vxVWYi9d0weM",
        "outputId": "ae89ea55-f164-42cd-8b94-58640f869f8e"
      },
      "execution_count": 4,
      "outputs": [
        {
          "output_type": "stream",
          "name": "stdout",
          "text": [
            "Yes its a match\n"
          ]
        }
      ]
    },
    {
      "cell_type": "markdown",
      "source": [
        "# re.search using if"
      ],
      "metadata": {
        "id": "8mg0x_ov3Bpz"
      }
    },
    {
      "cell_type": "code",
      "source": [
        "import re\n",
        "txt = \"The Times of India is an Indian English-language daily newspaper and digital news media owned and managed by The Times Group. It is the third-largest newspaper in India by circulation and largest selling English-language daily in the world\"\n",
        "x = re.search(\"daily\",txt)\n",
        "if x:\n",
        "  print(\"Yes its a match\")\n",
        "else:\n",
        "  print(\"no\")"
      ],
      "metadata": {
        "id": "x3w3kgvL0-x0"
      },
      "execution_count": null,
      "outputs": []
    },
    {
      "cell_type": "markdown",
      "source": [
        "# re.split"
      ],
      "metadata": {
        "id": "mA3D3edb3ZS1"
      }
    },
    {
      "cell_type": "code",
      "source": [
        "import re\n",
        "\n",
        "txt = \"my name is heshu\"\n",
        "x = re.split(\"\\s\", txt)\n",
        "print(x)"
      ],
      "metadata": {
        "colab": {
          "base_uri": "https://localhost:8080/"
        },
        "id": "zmCz7c3r3Oas",
        "outputId": "f542370a-001f-4cb8-b627-ca7fe58dcf35"
      },
      "execution_count": 6,
      "outputs": [
        {
          "output_type": "stream",
          "name": "stdout",
          "text": [
            "['my', 'name', 'is', 'heshu']\n"
          ]
        }
      ]
    },
    {
      "cell_type": "markdown",
      "source": [
        "# Replace every white-space character with the number H"
      ],
      "metadata": {
        "id": "0CAgh4nc3jaD"
      }
    },
    {
      "cell_type": "code",
      "source": [
        "import re\n",
        "\n",
        "txt = \"my name is heshu\"\n",
        "x = re.sub(\"\\s\", \"H\", txt)\n",
        "print(x)\n"
      ],
      "metadata": {
        "colab": {
          "base_uri": "https://localhost:8080/"
        },
        "id": "f1RePifF3nns",
        "outputId": "704a04b6-ba1d-45f7-9c7d-da03d8a0d3bb"
      },
      "execution_count": 7,
      "outputs": [
        {
          "output_type": "stream",
          "name": "stdout",
          "text": [
            "myHnameHisHheshu\n"
          ]
        }
      ]
    },
    {
      "cell_type": "markdown",
      "source": [
        "#The search() function returns a Match object:"
      ],
      "metadata": {
        "id": "ISqTkLM94S4i"
      }
    },
    {
      "cell_type": "code",
      "source": [
        "import re\n",
        "\n",
        "txt = \"roles royals\"\n",
        "x = re.search(\"heshu\", txt)\n",
        "print(x)\n"
      ],
      "metadata": {
        "colab": {
          "base_uri": "https://localhost:8080/"
        },
        "id": "unbGA1_a31lj",
        "outputId": "ae903002-553f-4f7a-e6ff-bd427536c956"
      },
      "execution_count": 8,
      "outputs": [
        {
          "output_type": "stream",
          "name": "stdout",
          "text": [
            "None\n"
          ]
        }
      ]
    }
  ]
}